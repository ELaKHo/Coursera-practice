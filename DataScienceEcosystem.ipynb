{
 "cells": [
  {
   "cell_type": "markdown",
   "id": "9fbd6705-fdb8-46a1-81e7-cea6093af7e7",
   "metadata": {},
   "source": [
    "# Data Science Tools and Ecosystem"
   ]
  },
  {
   "cell_type": "markdown",
   "id": "c4822ac4-4b0a-4d60-bb65-45bbf356df8d",
   "metadata": {},
   "source": [
    "In this notebook, Data Science Tools and Ecosystem are summarized."
   ]
  },
  {
   "cell_type": "markdown",
   "id": "eed4196e-c7ba-481e-be9e-a20e64cd1014",
   "metadata": {},
   "source": [
    "__objectives__:\n",
    "\n",
    "* popular languages\n",
    "* popular libraries\n",
    "* popular tools\n"
   ]
  },
  {
   "cell_type": "markdown",
   "id": "536c19f2-4e05-489c-afe9-b4d94ed2bdd7",
   "metadata": {},
   "source": [
    "Some of the popular languages that Data Scientists use are:\n",
    "- python\n",
    "- R\n",
    "- c++"
   ]
  },
  {
   "cell_type": "markdown",
   "id": "bbdc2955-f5cd-4067-a83b-b99c5d81803c",
   "metadata": {},
   "source": [
    "Some of the commonly used libraries used by Data Scientists include:\n",
    "- pandas \n",
    "- NumPy \n",
    "- Pytorch "
   ]
  },
  {
   "cell_type": "markdown",
   "id": "861b1ca5-f958-4a6a-b8cf-e1472bd3d393",
   "metadata": {},
   "source": [
    "| Data Science Tools|\n",
    "|-------------------|\n",
    "|RStudio|\n",
    "|Apache Spark|\n",
    "|TensorFlow|\n"
   ]
  },
  {
   "cell_type": "markdown",
   "id": "599a26fe-53d4-4304-8cfd-07ce573d4cb9",
   "metadata": {},
   "source": [
    "### Below are a few examples of evaluating arithmetic expressions in Python"
   ]
  },
  {
   "cell_type": "code",
   "execution_count": 1,
   "id": "adcc58dc-fe1e-4c37-a0c5-fe659a386f3e",
   "metadata": {
    "tags": []
   },
   "outputs": [
    {
     "data": {
      "text/plain": [
       "17"
      ]
     },
     "execution_count": 1,
     "metadata": {},
     "output_type": "execute_result"
    }
   ],
   "source": [
    "(3*4)+5 #This a simple arithmetic expression to mutiply then add integers"
   ]
  },
  {
   "cell_type": "code",
   "execution_count": 2,
   "id": "7aa43269-77e9-4603-a725-f1e0b548a324",
   "metadata": {
    "tags": []
   },
   "outputs": [
    {
     "data": {
      "text/plain": [
       "3.3333333333333335"
      ]
     },
     "execution_count": 2,
     "metadata": {},
     "output_type": "execute_result"
    }
   ],
   "source": [
    "200/60 #This a simple arithmetic expression to mutiply then add integers"
   ]
  },
  {
   "cell_type": "markdown",
   "id": "38aad8b4-6877-477c-b6da-cde5b4357d89",
   "metadata": {},
   "source": [
    "## Author :\n",
    "Ela KHODAEI"
   ]
  }
 ],
 "metadata": {
  "kernelspec": {
   "display_name": "Python",
   "language": "python",
   "name": "conda-env-python-py"
  },
  "language_info": {
   "codemirror_mode": {
    "name": "ipython",
    "version": 3
   },
   "file_extension": ".py",
   "mimetype": "text/x-python",
   "name": "python",
   "nbconvert_exporter": "python",
   "pygments_lexer": "ipython3",
   "version": "3.7.12"
  }
 },
 "nbformat": 4,
 "nbformat_minor": 5
}
